{
 "cells": [
  {
   "cell_type": "code",
   "execution_count": 1,
   "id": "8ff9b101",
   "metadata": {},
   "outputs": [
    {
     "name": "stdout",
     "output_type": "stream",
     "text": [
      "Requirement already satisfied: beautifulsoup4 in c:\\users\\nitin\\anaconda3\\lib\\site-packages (4.10.0)\n",
      "Requirement already satisfied: soupsieve>1.2 in c:\\users\\nitin\\anaconda3\\lib\\site-packages (from beautifulsoup4) (2.2.1)\n",
      "Note: you may need to restart the kernel to use updated packages.\n"
     ]
    }
   ],
   "source": [
    "pip install beautifulsoup4"
   ]
  },
  {
   "cell_type": "code",
   "execution_count": null,
   "id": "c1615a1a",
   "metadata": {},
   "outputs": [],
   "source": [
    "from bs4 import BeautifulSoup\n",
    "import requests\n",
    "import html5lib\n",
    "import smtplib\n",
    "import time\n",
    "\n",
    "\n",
    "def userInput():\n",
    "    global flipkartProductURL\n",
    "    global amazonProductURL\n",
    "    flipkartProductURL = input('Enter the flipkart product URL: ')\n",
    "    amazonProductURL = input('Enter the amazon product URL: ')\n",
    "\n",
    "def trackPrices():\n",
    "    headers = {'User-Agent' : 'Mozilla/5.0 (Windows NT 10.0; Win64; x64) AppleWebKit/537.36 (KHTML, like Gecko) Chrome/100.0.4896.127 Safari/537.36'}\n",
    "    if flipkartProductURL and amazonProductURL:\n",
    "        flipkartResponse = requests.get(flipkartProductURL,headers=headers)\n",
    "        amazonResponse = requests.get(amazonProductURL,headers=headers)\n",
    "        flipkartSoup = BeautifulSoup(flipkartResponse.content,'html5lib')\n",
    "        amazonSoup = BeautifulSoup(amazonResponse.content,'html5lib')\n",
    "        flipkartProductPrice = float(flipkartSoup.find('div',attrs='_30jeq3 _16Jk6d').text.replace(',','')[1:])   \n",
    "        amazonProductPrice = float(amazonSoup.find('span',attrs='priceBlockDealPriceString').text.replace(',','')[1:])\n",
    "        print('Flipkart product price is ',str(flipkartProductPrice))\n",
    "        print('Amazon product price is ',str(amazonProductPrice))\n",
    "        if flipkartProductPrice and amazonProductPrice:\n",
    "            sendEmail(amazonProductPrice,flipkartProductPrice)\n",
    "\n",
    "def sendEmail(amazonPrice,flipkartPrice):\n",
    "    message = ''\n",
    "    if amazonPrice and flipkartPrice and (amazonPrice > flipkartPrice):\n",
    "        message = 'Flipkart price is low. Price is Rs'+ str(flipkartPrice)\n",
    "    elif flipkartPrice > amazonPrice:\n",
    "        message = 'Amazon price is low. price is Rs'+ str(amazonPrice)\n",
    "    fromEmail = 'nitintanwar1610@gmail.com'\n",
    "    toEmail = 'nitintanwar1510@gmail.com'\n",
    "    server = smtplib.SMTP('smtp.gmail.com',587)\n",
    "    server.starttls()\n",
    "    server.login(fromEmail, '1234567')\n",
    "    server.sendmail(fromEmail,toEmail,message)\n",
    "    print('Mail sent succesfully')\n",
    "    server.quit()\n",
    "\n",
    "userInput()\n",
    "while True:\n",
    "    trackPrices()\n",
    "    time.sleep(5)\n",
    "    \n"
   ]
  },
  {
   "cell_type": "code",
   "execution_count": null,
   "id": "7056ca2b",
   "metadata": {},
   "outputs": [],
   "source": []
  }
 ],
 "metadata": {
  "kernelspec": {
   "display_name": "Python 3 (ipykernel)",
   "language": "python",
   "name": "python3"
  },
  "language_info": {
   "codemirror_mode": {
    "name": "ipython",
    "version": 3
   },
   "file_extension": ".py",
   "mimetype": "text/x-python",
   "name": "python",
   "nbconvert_exporter": "python",
   "pygments_lexer": "ipython3",
   "version": "3.9.7"
  }
 },
 "nbformat": 4,
 "nbformat_minor": 5
}
